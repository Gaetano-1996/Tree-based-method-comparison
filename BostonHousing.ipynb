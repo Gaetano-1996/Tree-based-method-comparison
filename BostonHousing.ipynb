{
 "cells": [
  {
   "cell_type": "markdown",
   "metadata": {},
   "source": [
    "# Analisi sui dati \"Boston Housing\""
   ]
  },
  {
   "cell_type": "markdown",
   "metadata": {},
   "source": [
    "## Introduzione ai dati\n",
    "Il dataset \"Boston Housing\" del 1970 è un dataset classico nel campo dell'apprendimento automatico e dell'econometria.\\\n",
    "È stato introdotto per la prima volta nel 1978 da Harrison e Rubinfeld nel loro articolo \"Hedonic Prices and the Demand for Clean Air\" (Prezzi hedonici e domanda per l'aria pulita).  \n",
    "\n",
    "Il dataset contiene informazioni su 506 abitazioni della Boston Standard Metropolitan Statistical Area, Massachusetts, negli Stati Uniti.\\\n",
    "È stato creato per esaminare la relazione tra il valore mediano delle abitazioni e una serie di variabili descrittive, tra cui:\n",
    "\n",
    "1. `crim`: tasso di criminalità per persona in un quartiere.\n",
    "2. `zn`: proporzione di terreno residenziale assegnato per lotti di oltre 25.000 piedi quadrati (circa 2323 metri quadrati).\n",
    "3. `indus`: proporzione di ettari dedicati alle attività commerciali non al dettaglio per città.\n",
    "4. `chas`: variabile binaria che indica se la proprietà si affaccia sul fiume Charles (1 se è vero, 0 altrimenti).\n",
    "5. `nox`: concentrazione di ossidi di azoto (parti per 10 milioni).\n",
    "6. `rm`: numero medio di stanze per abitazione.\n",
    "7. `age`: proporzione di unità occupate dal proprietario costruite prima del 1940.\n",
    "8. `dis`: distanze ponderate dai cinque centri di impiego di Boston.\n",
    "9. `rad`: indice di accessibilità alle strade principali.\n",
    "10. `tax`: tasso di imposta sulla proprietà a valore pieno per 10.000 dollari.\n",
    "11. `ptratio`: rapporto studenti-insegnanti per quartiere.\n",
    "12. `lstat`: percentuale di persone a basso reddito.\n",
    "\n",
    "La variabile che prenderemo come risposta in questa applicazione è il valore mediano delle abitazioni (`medv`), espresso in migliaia di dollari.\\\n",
    "Questo valore rappresenta il valore medio (mediano) delle case occupate dai proprietari nello specifico distretto censuario.\\"
   ]
  },
  {
   "cell_type": "markdown",
   "metadata": {},
   "source": [
    "## Analisi Esplorativa"
   ]
  },
  {
   "cell_type": "code",
   "execution_count": null,
   "metadata": {},
   "outputs": [],
   "source": [
    "# importazione delle librarie necessarie\n",
    "from src.AutoEnsemble import AutoEnsemble\n",
    "from src.AutoTree import AutoTree\n",
    "from src.utils import *\n",
    "# parametri grafici per aumentare la risoluzione di stampa\n",
    "# de- commentare se si vogliono ottenere i grafici proposti nell'analisi\n",
    "#plt.rcParams['figure.dpi'] = 300\n",
    "#sns.set(rc={'figure.dpi': 300})"
   ]
  },
  {
   "cell_type": "code",
   "execution_count": null,
   "metadata": {},
   "outputs": [],
   "source": [
    "# lettura dei dati da csv\n",
    "path = \"data/BostonHousing.csv\"\n",
    "dati = read_data(path,\n",
    "                 verbose = True)"
   ]
  },
  {
   "cell_type": "markdown",
   "metadata": {},
   "source": [
    "La funzione ci segnala l'assenza di valori mancanti nel dataset e che tutte le variabili sono di tipo numerico."
   ]
  },
  {
   "cell_type": "code",
   "execution_count": null,
   "metadata": {},
   "outputs": [],
   "source": [
    "# analisi esplorativa dei dati\n",
    "auto_eda(dati,\n",
    "         'medv',\n",
    "         print_corr=False,\n",
    "         plot_density=True,\n",
    "         cor_plot=True,\n",
    "         threshold=0.5,\n",
    "         pair_plot=True)"
   ]
  },
  {
   "cell_type": "markdown",
   "metadata": {},
   "source": [
    "## Adattamento di un modello di regressione ad albero"
   ]
  },
  {
   "cell_type": "code",
   "execution_count": null,
   "metadata": {},
   "outputs": [],
   "source": [
    "# Selezione della variabilerisposta\n",
    "y = dati['medv']\n",
    "# Creazione matrice del modello\n",
    "X = model_matrix(dati,\n",
    "                 'medv',\n",
    "                 intercept=False,\n",
    "                 dummies=False,\n",
    "                 verbose = True)"
   ]
  },
  {
   "cell_type": "code",
   "execution_count": null,
   "metadata": {},
   "outputs": [],
   "source": [
    "# definizione di un oggetto della classe AutoTree come albero di regressione\n",
    "reg = AutoTree('regressione')\n",
    "# diagnostica sull'albero inizializzato\n",
    "print(reg)"
   ]
  },
  {
   "cell_type": "code",
   "execution_count": null,
   "metadata": {},
   "outputs": [],
   "source": [
    "# Divisione del dataset in insieme di stima ed insieme di verifica\n",
    "X_train, X_test, y_train, y_test = split_data(X, y,\n",
    "                                              size = 0.25)"
   ]
  },
  {
   "cell_type": "code",
   "execution_count": null,
   "metadata": {},
   "outputs": [],
   "source": [
    "# Primo adattamento del modello ai dati\n",
    "reg.auto_fit(X_train,y_train,\n",
    "             verbose = 2,\n",
    "             plot=True)"
   ]
  },
  {
   "cell_type": "code",
   "execution_count": null,
   "metadata": {},
   "outputs": [],
   "source": [
    "# Valori stimati dal modello\n",
    "previsioni = reg.predict(X_test)\n",
    "# Valutazione delle performance del modello\n",
    "perf(y_test, \n",
    "     previsioni,\n",
    "     plot=False)"
   ]
  },
  {
   "cell_type": "markdown",
   "metadata": {},
   "source": [
    "## Pruning"
   ]
  },
  {
   "cell_type": "code",
   "execution_count": null,
   "metadata": {},
   "outputs": [],
   "source": [
    "# Potatura automatica dell'albero di regressione\n",
    "auto_pruned = reg.auto_prune(X_train, y_train,\n",
    "                             auto=True,\n",
    "                             plot=False,\n",
    "                             n_splits=10,\n",
    "                             print_path=False)\n",
    "print(auto_pruned)"
   ]
  },
  {
   "cell_type": "code",
   "execution_count": null,
   "metadata": {},
   "outputs": [],
   "source": [
    "# Adattamento dell'albero con valore di alpha selezionato in modo automatico\n",
    "auto_pruned.auto_fit(X_train, y_train, verbose=1, plot=False)\n",
    "# valori previsti\n",
    "previsioni2 = auto_pruned.predict(X_test)\n",
    "# valutazione della performance del modello potato automaticamente\n",
    "perf(y_test, previsioni2)"
   ]
  },
  {
   "cell_type": "code",
   "execution_count": null,
   "metadata": {},
   "outputs": [],
   "source": [
    "# Potatura \"manuale\"\n",
    "manually_pruned = reg.auto_prune(X_train, y_train,\n",
    "                                 auto=False)"
   ]
  },
  {
   "cell_type": "code",
   "execution_count": null,
   "metadata": {},
   "outputs": [],
   "source": [
    "# Adattamento dell'albero potato manualmente\n",
    "manually_pruned.auto_fit(X_train, y_train, \n",
    "                         verbose=1, \n",
    "                         plot=True)\n",
    "# Previsione e valutazione delle performance\n",
    "previsioni3 = manually_pruned.predict(X_test)\n",
    "perf(y_test,previsioni3,\n",
    "     plot=True,\n",
    "     metodo=\"Albero di regressione (potato)\")"
   ]
  },
  {
   "cell_type": "markdown",
   "metadata": {},
   "source": [
    "## Ensemble"
   ]
  },
  {
   "cell_type": "markdown",
   "metadata": {},
   "source": [
    "### Bagging"
   ]
  },
  {
   "cell_type": "code",
   "execution_count": null,
   "metadata": {},
   "outputs": [],
   "source": [
    "# inizializziamo l'ensemble con bagging\n",
    "bag = AutoEnsemble(method = 'rf', n_estimators = 100, random_state = 0) # usiamo 'bagging' ma in realta il default e' 'rf'\n",
    "# fit dei dati\n",
    "bag.auto_fit(X_train, y_train)\n",
    "# predizione + performance\n",
    "bag_pred = bag.predict(X_test)\n",
    "\n",
    "perf(y_test, bag_pred)"
   ]
  },
  {
   "cell_type": "code",
   "execution_count": null,
   "metadata": {},
   "outputs": [],
   "source": [
    "# tuning dei parametri : B non è un parametro fondamentale, basta scegliere un valore che non sia troppo piccolo\n",
    "parametri = {\n",
    "        'n_estimators': [100, 500, 1000],\n",
    "        'max_depth': [3, 5,10,15,20],\n",
    "        'min_samples_split': [1,2, 5, 10],\n",
    "        'min_samples_leaf': [1, 2, 5]\n",
    "    }\n",
    "\n",
    "bag2 = bag.auto_tuning(\n",
    "    X_train,\n",
    "    y_train,\n",
    "    parametri,\n",
    "    n_splits=5,\n",
    "    n_iter=10,\n",
    "    randomized=True\n",
    ")\n",
    "\n",
    "# performance modello ottimizzato\n",
    "bag_pred2 = bag2.predict(X_test)\n",
    "perf(y_test, bag_pred2,metodo='Bagging',plot=True)"
   ]
  },
  {
   "cell_type": "markdown",
   "metadata": {},
   "source": [
    "#### Feature Selection"
   ]
  },
  {
   "cell_type": "code",
   "execution_count": null,
   "metadata": {},
   "outputs": [],
   "source": [
    "# feature selection del modello bagging\n",
    "bag2.auto_features(X_train,\n",
    "                   threshold='median',\n",
    "                   plot=True)"
   ]
  },
  {
   "cell_type": "markdown",
   "metadata": {},
   "source": [
    "### Random Forest"
   ]
  },
  {
   "cell_type": "code",
   "execution_count": null,
   "metadata": {},
   "outputs": [],
   "source": [
    "# inizializzazione con RF con i predittori selezionati \n",
    "rf = AutoEnsemble(max_features=6) # m=6\n",
    "# adattamento ai dati di training\n",
    "rf.auto_fit(X_train, y_train)\n",
    "# predict + performance\n",
    "rf_pred = rf.predict(X_test)\n",
    "perf(y_test, rf_pred)"
   ]
  },
  {
   "cell_type": "code",
   "execution_count": null,
   "metadata": {},
   "outputs": [],
   "source": [
    "# tuning \n",
    "parametri_rf = {'n_estimators': [200,500,1000],\n",
    "                'criterion':['squared_error','friedman_mse'],\n",
    "                'max_features': [None,6,'sqrt','log2']}\n",
    "\n",
    "rf2 = rf.auto_tuning(X_train,y_train,\n",
    "                     parametri_rf,\n",
    "                     n_splits=5,\n",
    "                     n_iter=10,\n",
    "                     random_state=0)"
   ]
  },
  {
   "cell_type": "code",
   "execution_count": null,
   "metadata": {},
   "outputs": [],
   "source": [
    "# Performance del modello ottimizzato\n",
    "rf_pred2 = rf2.predict(X_test)\n",
    "perf(y_test, rf_pred2,metodo='Random Forest',plot=True)"
   ]
  },
  {
   "cell_type": "code",
   "execution_count": null,
   "metadata": {},
   "outputs": [],
   "source": [
    "# Importanza dei predittori (Random Forest)\n",
    "rf2.auto_features(X_train)"
   ]
  },
  {
   "cell_type": "markdown",
   "metadata": {},
   "source": [
    "### Boosting"
   ]
  },
  {
   "cell_type": "code",
   "execution_count": null,
   "metadata": {},
   "outputs": [],
   "source": [
    "# Inizializzazione\n",
    "boost = AutoEnsemble('gb')\n",
    "# adattamento\n",
    "boost.auto_fit(X_train, y_train)\n",
    "# previsione\n",
    "y_pred = boost.predict(X_test)\n",
    "# performance\n",
    "perf(y_test, y_pred)\n"
   ]
  },
  {
   "cell_type": "code",
   "execution_count": null,
   "metadata": {},
   "outputs": [],
   "source": [
    "# tuning\n",
    "parametri ={\n",
    "    'max_depth': [1,2,3],\n",
    "    'n_estimators': [500, 1000, 5000],\n",
    "    'learning_rate': [0.001, 0.01, 0.05, 0.1,0.2],\n",
    "    'criterion': ['friedman_mse', 'squared_error']\n",
    "}\n",
    "\n",
    "boost2 = boost.auto_tuning(X_train, y_train, \n",
    "                           parametri,\n",
    "                           n_splits=5, \n",
    "                           n_iter=10,\n",
    "                           random_state=0)\n",
    "\n",
    "pred2 = boost2.predict(X_test)\n",
    "perf(y_test,pred2,plot=True,metodo='Boosting')"
   ]
  },
  {
   "cell_type": "markdown",
   "metadata": {},
   "source": [
    "## Confronto fra metodi"
   ]
  },
  {
   "cell_type": "code",
   "execution_count": null,
   "metadata": {},
   "outputs": [],
   "source": [
    "# confronto tra i metodi \n",
    "method_comparison(X_train,\n",
    "                  X_test,\n",
    "                  y_train,\n",
    "                  y_test,{'bagging':bag2,\"rf\":rf2,\"boosting\":boost2},\n",
    "                  train=True,\n",
    "                  max_estimators=500)"
   ]
  }
 ],
 "metadata": {
  "kernelspec": {
   "display_name": "se2",
   "language": "python",
   "name": "python3"
  },
  "language_info": {
   "codemirror_mode": {
    "name": "ipython",
    "version": 3
   },
   "file_extension": ".py",
   "mimetype": "text/x-python",
   "name": "python",
   "nbconvert_exporter": "python",
   "pygments_lexer": "ipython3",
   "version": "3.11.4"
  },
  "orig_nbformat": 4
 },
 "nbformat": 4,
 "nbformat_minor": 2
}
